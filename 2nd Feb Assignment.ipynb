{
 "cells": [
  {
   "cell_type": "markdown",
   "id": "aaff15cd-f657-45f1-8dcc-6cfcfd5ffb8e",
   "metadata": {},
   "source": [
    "## Q1. What are the characteristics of the tuples? Is tuple immutable? "
   ]
  },
  {
   "cell_type": "raw",
   "id": "058c67bd-ea1f-47f1-ae8a-be60fe62adb2",
   "metadata": {},
   "source": [
    ">> Tuple is immutable data structure in python. Tuples are ordered collection of data hence elements inside it can be accessed with help of index number. Tuples can be sliced . Tuples are hashable.Tuple can store data of differenrt data types.\n",
    "Yes , tuples are immuatble i.e the data inside the tuple cannot be changed . Once the data is stored it can not be modified .\n",
    "way to make a tuple:\n",
    "t=tuple((1,2,3,4,))\n",
    "or\n",
    "t=(1,2,3,4)"
   ]
  },
  {
   "cell_type": "markdown",
   "id": "f884edec-2e22-465e-ac8d-a81a1a33f1f4",
   "metadata": {},
   "source": [
    "## Q2. What are the two tuple methods in python? Give an example of each method. Give a reason why  tuples have only two in-built methods as compared to Lists."
   ]
  },
  {
   "cell_type": "raw",
   "id": "3d058fec-db5e-468e-b81a-1993ca02b1e0",
   "metadata": {},
   "source": [
    ">>Tuples have only two methodsand they are : count() and index().There are only two methods available in tuple as tuples are immutable i.e data in it cant be changed once enetred.As the data cannot be modified , methods like pop() , append()/add()/extend() cannot be used in tuples lije lists and sets.Since tuples are ordered index() method can work well and also count() can be used to find count of a particular data element in tuple"
   ]
  },
  {
   "cell_type": "code",
   "execution_count": 20,
   "id": "14c7f5a2-2216-47aa-b772-341b50ec2224",
   "metadata": {},
   "outputs": [
    {
     "name": "stdout",
     "output_type": "stream",
     "text": [
      "4\n",
      "0\n",
      "6\n",
      "1\n"
     ]
    }
   ],
   "source": [
    "# eg: \n",
    "t=(1,1,1,2,3,4,1,0,2,20)\n",
    "print(t.count(1))\n",
    "print(t.index(1)) # it search for the first index of 1\n",
    "print(t.index(1 , 3)) # search for index of 1 after 3\n",
    "print(t.index(1 , 1 , 2)) # search for index of 1 from 1 to 2"
   ]
  },
  {
   "cell_type": "markdown",
   "id": "0a4f0a4c-9205-420a-916a-9890328dee3a",
   "metadata": {},
   "source": [
    "## Q3. Which collection datatypes in python do not allow duplicate items? Write a code using a set to remove  duplicates from the given list. \n"
   ]
  },
  {
   "cell_type": "raw",
   "id": "2a138679-bfe4-4842-98b8-98e233dcf024",
   "metadata": {},
   "source": [
    ">>Set is data type in python taht do not allow duplicates."
   ]
  },
  {
   "cell_type": "code",
   "execution_count": 25,
   "id": "7532793b-21e7-47f7-98c4-8a901b576b43",
   "metadata": {},
   "outputs": [
    {
     "name": "stdout",
     "output_type": "stream",
     "text": [
      "{1, 2, 3, 4}\n"
     ]
    }
   ],
   "source": [
    "List = [1, 1, 1, 2, 1, 3, 1, 4, 2, 1, 2, 2, 2, 3, 2, 4, 3, 1, 3, 2, 3, 3, 3, 4, 4, 1, 4, 2, 4, 3, 4, 4] \n",
    "s=set(List)\n",
    "print(s)"
   ]
  },
  {
   "cell_type": "markdown",
   "id": "2ca1a8ca-6b3e-4a97-981f-c46cee39e0e4",
   "metadata": {},
   "source": [
    "## Q4. Explain the difference between the union() and update() methods for a set. Give an example of  each method. \n"
   ]
  },
  {
   "cell_type": "raw",
   "id": "ec87ebb6-1935-46c2-8b37-90fcf51ae771",
   "metadata": {},
   "source": [
    ">>Both the methods belog to sets.Union method basically finds the union of two or more sets i.e it removes the repeated elements in a two or more sets and consider there occurrence only once i.e intersecetd elements are considered only once.Whereas update() method is used to update a set with another set i.e it appends the content of one set with another."
   ]
  },
  {
   "cell_type": "code",
   "execution_count": 32,
   "id": "f9b75b51-b59a-42d5-aa45-64d46a13a5b2",
   "metadata": {},
   "outputs": [
    {
     "name": "stdout",
     "output_type": "stream",
     "text": [
      "Union of two sets is : {1, 2, 3, 4, 5, 6, 7, 8}\n",
      "{1, 2, 3, 4, 5, 6}\n"
     ]
    }
   ],
   "source": [
    "s1={1,2,3,4,5}\n",
    "s2={4,5,6,7,8}\n",
    "print(\"Union of two sets is : {}\".format(s1.union(s2)))\n",
    "\n",
    "\n",
    "s1={1,2,3}\n",
    "s2={4,5,6}\n",
    "s1.update(s2)\n",
    "print(s1)"
   ]
  },
  {
   "cell_type": "markdown",
   "id": "1e428586-a2a8-4874-88e6-f1937d49055d",
   "metadata": {},
   "source": [
    "## Q5. What is a dictionary? Give an example. Also, state whether a dictionary is ordered or unordered. \n"
   ]
  },
  {
   "cell_type": "raw",
   "id": "99b1ea6a-3174-484a-b625-fd8f79dec5b4",
   "metadata": {},
   "source": [
    ">>Dictionary is data structure available in python. It is used store data in form of key value pair.All the keys in dictionary must be unique . Dictionary is mutable in nature.Dictionary is ordered collection of data"
   ]
  },
  {
   "cell_type": "code",
   "execution_count": 34,
   "id": "0d852455-b469-4d09-9239-b23f091427b7",
   "metadata": {},
   "outputs": [
    {
     "name": "stdout",
     "output_type": "stream",
     "text": [
      "{'name': 'Mohit', 'age': 20, 'course': 'data science master'}\n"
     ]
    }
   ],
   "source": [
    "d={'name': 'Mohit' , 'age': 20 , 'course':'data science master'}\n",
    "print(d)"
   ]
  },
  {
   "cell_type": "markdown",
   "id": "eb1630c5-0776-4aff-b795-c0fa2c729473",
   "metadata": {},
   "source": [
    "## Q6. Can we create a nested dictionary? If so, please give an example by creating a simple one-level  nested dictionary. "
   ]
  },
  {
   "cell_type": "raw",
   "id": "85e499d6-4eee-4462-8b71-76acbbfb653a",
   "metadata": {},
   "source": [
    ">>Yes we can create nested dictionary in python."
   ]
  },
  {
   "cell_type": "code",
   "execution_count": 40,
   "id": "e375832e-c02f-434e-9afa-78434e18b220",
   "metadata": {},
   "outputs": [
    {
     "name": "stdout",
     "output_type": "stream",
     "text": [
      "{'TATA': {'start_price': 1000, 'peak_price': 1500, 'end_price': 13000}, 'ADANI': {'start_price': 500, 'peak_price': 800, 'end_price': 600}}\n",
      "\n",
      "('TATA', {'start_price': 1000, 'peak_price': 1500, 'end_price': 13000})\n",
      "('ADANI', {'start_price': 500, 'peak_price': 800, 'end_price': 600})\n"
     ]
    }
   ],
   "source": [
    "## eg:\n",
    "stocks={'TATA' : {'start_price' : 1000 , 'peak_price': 1500 , 'end_price': 13000} , \n",
    "        'ADANI' : {'start_price' : 500 , 'peak_price': 800 , 'end_price': 600}}\n",
    "print(stocks)\n",
    "print()\n",
    "for i in stocks.items():\n",
    "    print(i)"
   ]
  },
  {
   "cell_type": "markdown",
   "id": "c50db132-98f8-4c27-8437-dd803a1b5d2e",
   "metadata": {},
   "source": [
    "## Q7. Using setdefault() method, create key named topics in the given dictionary and also add the value of  the key as this list ['Python', 'Machine Learning’, 'Deep Learning'] \n",
    "dict1 = {'language' : 'Python', 'course': 'Data Science Masters'} \n"
   ]
  },
  {
   "cell_type": "code",
   "execution_count": 51,
   "id": "73a98f11-aa8d-416f-bb5e-864d01bb874a",
   "metadata": {},
   "outputs": [
    {
     "name": "stdout",
     "output_type": "stream",
     "text": [
      "{'language': 'Python', 'course': 'Data Science Masters', 'Topics': ['Python', 'Machine Learning', 'Deep Learning']}\n"
     ]
    }
   ],
   "source": [
    "dict1 = {'language' : 'Python', 'course': 'Data Science Masters'} \n",
    "dict1.setdefault('Topics'  ,  ['Python', 'Machine Learning', 'Deep Learning'])\n",
    "print(dict1)"
   ]
  },
  {
   "cell_type": "markdown",
   "id": "89cf35a7-6b92-401b-afa1-bdf29787475d",
   "metadata": {},
   "source": [
    "## Q8. What are the three view objects in dictionaries? Use the three in-built methods in python to display  these three view objects for the given dictionary. \n",
    "dict1 = {'Sport': 'Cricket' , 'Teams': ['India', 'Australia', 'England', 'South Africa', 'Sri Lanka', 'New Zealand']} \n"
   ]
  },
  {
   "cell_type": "raw",
   "id": "ad868c87-c8a8-4ba9-95f6-83c4575e4c91",
   "metadata": {},
   "source": [
    ">> In Python, dictionaries have three view objects that allow you to access the keys, values, and items"
   ]
  },
  {
   "cell_type": "code",
   "execution_count": null,
   "id": "d4f42bd9-8d1b-48a5-8e8f-4d2853ba3f48",
   "metadata": {},
   "outputs": [],
   "source": [
    "dict1 = {'Sport': 'Cricket' , 'Teams': ['India', 'Australia', 'England', 'South Africa', 'Sri Lanka', 'New Zealand']} "
   ]
  }
 ],
 "metadata": {
  "kernelspec": {
   "display_name": "Python 3 (ipykernel)",
   "language": "python",
   "name": "python3"
  },
  "language_info": {
   "codemirror_mode": {
    "name": "ipython",
    "version": 3
   },
   "file_extension": ".py",
   "mimetype": "text/x-python",
   "name": "python",
   "nbconvert_exporter": "python",
   "pygments_lexer": "ipython3",
   "version": "3.10.8"
  }
 },
 "nbformat": 4,
 "nbformat_minor": 5
}
